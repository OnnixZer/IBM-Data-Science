{
 "cells": [
  {
   "cell_type": "markdown",
   "id": "a6b30258-4177-4323-9d8e-5335010c27a4",
   "metadata": {},
   "source": [
    "# Data Science Tools and Ecosystem"
   ]
  },
  {
   "cell_type": "markdown",
   "id": "9b62ae63-991d-42ba-97d5-ca3784f9b3b9",
   "metadata": {},
   "source": [
    "In this notebook, Data Science Tools and Ecosystem are summarized."
   ]
  },
  {
   "cell_type": "markdown",
   "id": "c5c4797f-647f-4c8b-b355-5e3daa7139a0",
   "metadata": {},
   "source": [
    "**Objetives:**\n",
    "* List popular languages for Data Science\n",
    "* List commonly libraries for Data Science\n",
    "* Table for Data Science Tools\n",
    "* Arithmetic expressions\n"
   ]
  },
  {
   "cell_type": "markdown",
   "id": "01733700-0471-426e-a0f8-7ae1561753a3",
   "metadata": {},
   "source": [
    "Some of the popular languages that Data Scientists use are:\n",
    "1. Python\n",
    "2. R\n",
    "3. C++"
   ]
  },
  {
   "cell_type": "markdown",
   "id": "8d5b1838-5fb1-4b1d-8a27-e4054a7de7bc",
   "metadata": {
    "tags": []
   },
   "source": [
    "Some of the commonly used libraries used by Data Scientists include:\n",
    "1. Pandas\n",
    "2. Matplotlib\n",
    "3. Scikit-Learn"
   ]
  },
  {
   "cell_type": "markdown",
   "id": "c71adb1a-4343-4567-85dc-a518d75b4450",
   "metadata": {},
   "source": [
    "|  Data Science Tools  |\n",
    "|  ------------------  |\n",
    "|  Jupyter Lab  |\n",
    "|  Apache Spark  |\n",
    "|  KNIME  |\n"
   ]
  },
  {
   "cell_type": "markdown",
   "id": "712674bf-01aa-4ee3-b469-502ccaa4a7b7",
   "metadata": {},
   "source": [
    "### Below are a few examples of evaluating arithmetic expressions in Python"
   ]
  },
  {
   "cell_type": "markdown",
   "id": "f8012e6f-281c-44f9-9829-24b17feff62f",
   "metadata": {},
   "source": [
    "This a simple arithmetic expression to mutiply the add integers"
   ]
  },
  {
   "cell_type": "code",
   "execution_count": 2,
   "id": "7888ed1f-2570-4a91-ab15-01bf3064eef6",
   "metadata": {
    "tags": []
   },
   "outputs": [
    {
     "data": {
      "text/plain": [
       "17"
      ]
     },
     "execution_count": 2,
     "metadata": {},
     "output_type": "execute_result"
    }
   ],
   "source": [
    "(3*4)+5"
   ]
  },
  {
   "cell_type": "markdown",
   "id": "e28cc8e4-a09e-454f-8118-39b2da76697a",
   "metadata": {},
   "source": [
    "This will convert 200 minutes to hours by diving by 60"
   ]
  },
  {
   "cell_type": "code",
   "execution_count": 3,
   "id": "6d1b1be1-e400-492a-a9bc-797b39161060",
   "metadata": {
    "tags": []
   },
   "outputs": [
    {
     "data": {
      "text/plain": [
       "3.3333333333333335"
      ]
     },
     "execution_count": 3,
     "metadata": {},
     "output_type": "execute_result"
    }
   ],
   "source": [
    "200/60"
   ]
  },
  {
   "cell_type": "markdown",
   "id": "d2ed2eaf-0748-4904-8646-7af691218abe",
   "metadata": {},
   "source": [
    "## Author\n",
    "Victor Ramirez"
   ]
  }
 ],
 "metadata": {
  "kernelspec": {
   "display_name": "Python 3 (ipykernel)",
   "language": "python",
   "name": "python3"
  },
  "language_info": {
   "codemirror_mode": {
    "name": "ipython",
    "version": 3
   },
   "file_extension": ".py",
   "mimetype": "text/x-python",
   "name": "python",
   "nbconvert_exporter": "python",
   "pygments_lexer": "ipython3",
   "version": "3.11.5"
  }
 },
 "nbformat": 4,
 "nbformat_minor": 5
}
